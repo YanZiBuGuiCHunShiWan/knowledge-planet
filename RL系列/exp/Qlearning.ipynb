{
 "cells": [
  {
   "cell_type": "code",
   "execution_count": 1,
   "id": "b9ea50d9-bc89-4d16-a41a-57a81340fe77",
   "metadata": {},
   "outputs": [],
   "source": [
    "import numpy as np\n",
    "import gymnasium as gym\n",
    "import random\n",
    "import imageio\n",
    "import os\n",
    "import tqdm\n",
    "from tqdm.notebook import tqdm"
   ]
  },
  {
   "cell_type": "code",
   "execution_count": 4,
   "id": "c1510ab6-8c62-4333-ba7c-6dcd2bd8e3b8",
   "metadata": {},
   "outputs": [],
   "source": [
    "env = gym.make(\"FrozenLake-v1\", map_name=\"4x4\", is_slippery=False, render_mode=\"rgb_array\")"
   ]
  },
  {
   "cell_type": "code",
   "execution_count": 5,
   "id": "5916d1ff-14b9-49e9-b791-d0b4a9eabe23",
   "metadata": {},
   "outputs": [
    {
     "name": "stdout",
     "output_type": "stream",
     "text": [
      "_____OBSERVATION SPACE_____ \n",
      "\n",
      "Observation Space Discrete(16)\n",
      "Sample observation 5\n"
     ]
    }
   ],
   "source": [
    "# We create our environment with gym.make(\"<name_of_the_environment>\")- `is_slippery=False`: The agent always moves in the intended direction due to the non-slippery nature of the frozen lake (deterministic).\n",
    "print(\"_____OBSERVATION SPACE_____ \\n\")\n",
    "print(\"Observation Space\", env.observation_space)\n",
    "print(\"Sample observation\", env.observation_space.sample())  # Get a random observation"
   ]
  },
  {
   "cell_type": "code",
   "execution_count": 6,
   "id": "d43b4764-22e4-4fe3-9917-5f5d988ea6bc",
   "metadata": {},
   "outputs": [
    {
     "name": "stdout",
     "output_type": "stream",
     "text": [
      "\n",
      " _____ACTION SPACE_____ \n",
      "\n",
      "Action Space Shape 4\n",
      "Action Space Sample 3\n"
     ]
    }
   ],
   "source": [
    "print(\"\\n _____ACTION SPACE_____ \\n\")\n",
    "print(\"Action Space Shape\", env.action_space.n)\n",
    "print(\"Action Space Sample\", env.action_space.sample())  # Take a random action"
   ]
  },
  {
   "cell_type": "code",
   "execution_count": 9,
   "id": "f2489efd-bbb8-44d9-b1de-a2aeb23804ed",
   "metadata": {},
   "outputs": [
    {
     "name": "stdout",
     "output_type": "stream",
     "text": [
      "There are  16  possible states\n",
      "There are  4  possible actions\n"
     ]
    }
   ],
   "source": [
    "state_space = env.observation_space.n\n",
    "print(\"There are \", state_space, \" possible states\")\n",
    "\n",
    "action_space = env.action_space.n\n",
    "print(\"There are \", action_space, \" possible actions\")"
   ]
  },
  {
   "cell_type": "code",
   "execution_count": 14,
   "id": "ed154d26-629e-4ac5-a905-3b07c63dee4c",
   "metadata": {},
   "outputs": [],
   "source": [
    "# Let's create our Qtable of size (state_space, action_space) and initialized each values at 0 using np.zeros\n",
    "def initialize_q_table(state_space, action_space):\n",
    "    Qtable = np.zeros((state_space, action_space))\n",
    "    return Qtable"
   ]
  },
  {
   "cell_type": "code",
   "execution_count": 15,
   "id": "672837bc-46a7-4059-bb77-2888a7291aca",
   "metadata": {},
   "outputs": [],
   "source": [
    "Qtable_frozenlake = initialize_q_table(state_space, action_space)"
   ]
  },
  {
   "cell_type": "code",
   "execution_count": 8,
   "id": "f0b95683-6ddb-43d0-9562-2c3b84d2ac28",
   "metadata": {},
   "outputs": [],
   "source": [
    "def epsilon_greedy_policy(Qtable, state, epsilon):\n",
    "    # Randomly generate a number between 0 and 1\n",
    "    random_num = random.uniform(0, 1)\n",
    "    # if random_num > greater than epsilon --> exploitation\n",
    "    if random_num > epsilon:\n",
    "        # Take the action with the highest value given a state\n",
    "        # np.argmax can be useful here\n",
    "        action = greedy_policy(Qtable, state)\n",
    "    # else --> exploration\n",
    "    else:\n",
    "        action = env.action_space.sample()\n",
    "\n",
    "    return action\n",
    "    \n",
    "def greedy_policy(Qtable, state):\n",
    "    # Exploitation: take the action with the highest state, action value\n",
    "    action = np.argmax(Qtable[state][:])\n",
    "\n",
    "    return action"
   ]
  },
  {
   "cell_type": "code",
   "execution_count": 10,
   "id": "02d4e8cd-dcce-4352-b5d6-e35e27a7677e",
   "metadata": {},
   "outputs": [],
   "source": [
    "# Training parameters\n",
    "n_training_episodes = 10000  # Total training episodes\n",
    "learning_rate = 0.7  # Learning rate\n",
    "\n",
    "# Evaluation parameters\n",
    "n_eval_episodes = 100  # Total number of test episodes\n",
    "\n",
    "# Environment parameters\n",
    "env_id = \"FrozenLake-v1\"  # Name of the environment\n",
    "max_steps = 99  # Max steps per episode\n",
    "gamma = 0.95  # Discounting rate\n",
    "eval_seed = []  # The evaluation seed of the environment\n",
    "\n",
    "# Exploration parameters\n",
    "max_epsilon = 1.0  # Exploration probability at start\n",
    "min_epsilon = 0.05  # Minimum exploration probability\n",
    "decay_rate = 0.0005  # Exponential decay rate for exploration prob"
   ]
  },
  {
   "cell_type": "code",
   "execution_count": 12,
   "id": "9e964f4a-1dd8-45e7-a47d-fca7228f3186",
   "metadata": {},
   "outputs": [],
   "source": [
    "def train(n_training_episodes, min_epsilon, max_epsilon, decay_rate, env, max_steps, Qtable):\n",
    "    for episode in tqdm(range(n_training_episodes)):\n",
    "        # Reduce epsilon (because we need less and less exploration)\n",
    "        epsilon = min_epsilon + (max_epsilon - min_epsilon) * np.exp(-decay_rate * episode)\n",
    "        # Reset the environment\n",
    "        state, info = env.reset()\n",
    "        step = 0\n",
    "        terminated = False\n",
    "        truncated = False\n",
    "\n",
    "        # repeat\n",
    "        for step in range(max_steps):\n",
    "            # Choose the action At using epsilon greedy policy\n",
    "            action = epsilon_greedy_policy(Qtable, state, epsilon)\n",
    "\n",
    "            # Take action At and observe Rt+1 and St+1\n",
    "            # Take the action (a) and observe the outcome state(s') and reward (r)\n",
    "            new_state, reward, terminated, truncated, info = env.step(action)\n",
    "\n",
    "            # Update Q(s,a):= Q(s,a) + lr [R(s,a) + gamma * max Q(s',a') - Q(s,a)]\n",
    "            Qtable[state][action] = Qtable[state][action] + learning_rate * (\n",
    "                reward + gamma * np.max(Qtable[new_state]) - Qtable[state][action]\n",
    "            )\n",
    "\n",
    "            # If terminated or truncated finish the episode\n",
    "            if terminated or truncated:\n",
    "                break\n",
    "\n",
    "            # Our next state is the new state\n",
    "            state = new_state\n",
    "    return Qtable"
   ]
  },
  {
   "cell_type": "code",
   "execution_count": 16,
   "id": "38a07d3b-0ea3-4bcb-b077-df7653bb8e50",
   "metadata": {},
   "outputs": [
    {
     "data": {
      "application/vnd.jupyter.widget-view+json": {
       "model_id": "720b6d2cf3654e11885764489b24d59b",
       "version_major": 2,
       "version_minor": 0
      },
      "text/plain": [
       "  0%|          | 0/10000 [00:00<?, ?it/s]"
      ]
     },
     "metadata": {},
     "output_type": "display_data"
    }
   ],
   "source": [
    "Qtable_frozenlake = train(n_training_episodes, min_epsilon, max_epsilon, decay_rate, env, max_steps, Qtable_frozenlake)"
   ]
  },
  {
   "cell_type": "code",
   "execution_count": 17,
   "id": "76c94fc7-f08b-465d-83ba-59cc0be16ad9",
   "metadata": {},
   "outputs": [],
   "source": [
    "def evaluate_agent(env, max_steps, n_eval_episodes, Q, seed):\n",
    "    \"\"\"\n",
    "    Evaluate the agent for ``n_eval_episodes`` episodes and returns average reward and std of reward.\n",
    "    :param env: The evaluation environment\n",
    "    :param n_eval_episodes: Number of episode to evaluate the agent\n",
    "    :param Q: The Q-table\n",
    "    :param seed: The evaluation seed array (for taxi-v3)\n",
    "    \"\"\"\n",
    "    episode_rewards = []\n",
    "    for episode in tqdm(range(n_eval_episodes)):\n",
    "        if seed:\n",
    "            state, info = env.reset(seed=seed[episode])\n",
    "        else:\n",
    "            state, info = env.reset()\n",
    "        step = 0\n",
    "        truncated = False\n",
    "        terminated = False\n",
    "        total_rewards_ep = 0\n",
    "\n",
    "        for step in range(max_steps):\n",
    "            # Take the action (index) that have the maximum expected future reward given that state\n",
    "            action = greedy_policy(Q, state)\n",
    "            new_state, reward, terminated, truncated, info = env.step(action)\n",
    "            total_rewards_ep += reward\n",
    "\n",
    "            if terminated or truncated:\n",
    "                break\n",
    "            state = new_state\n",
    "        episode_rewards.append(total_rewards_ep)\n",
    "    mean_reward = np.mean(episode_rewards)\n",
    "    std_reward = np.std(episode_rewards)\n",
    "\n",
    "    return mean_reward, std_reward"
   ]
  },
  {
   "cell_type": "code",
   "execution_count": 18,
   "id": "25943a2d-3382-48b6-8e8a-dba9b1df9e91",
   "metadata": {},
   "outputs": [
    {
     "data": {
      "application/vnd.jupyter.widget-view+json": {
       "model_id": "f20ad9fd05f9454cb949f3cd03627ed3",
       "version_major": 2,
       "version_minor": 0
      },
      "text/plain": [
       "  0%|          | 0/100 [00:00<?, ?it/s]"
      ]
     },
     "metadata": {},
     "output_type": "display_data"
    },
    {
     "name": "stdout",
     "output_type": "stream",
     "text": [
      "Mean_reward=1.00 +/- 0.00\n"
     ]
    }
   ],
   "source": [
    "# Evaluate our Agent\n",
    "mean_reward, std_reward = evaluate_agent(env, max_steps, n_eval_episodes, Qtable_frozenlake, eval_seed)\n",
    "print(f\"Mean_reward={mean_reward:.2f} +/- {std_reward:.2f}\")"
   ]
  },
  {
   "cell_type": "code",
   "execution_count": 19,
   "id": "dc5c3b33-0329-4a59-940d-91fb655e81a1",
   "metadata": {},
   "outputs": [],
   "source": [
    "from huggingface_hub import HfApi, snapshot_download\n",
    "from huggingface_hub.repocard import metadata_eval_result, metadata_save\n",
    "\n",
    "from pathlib import Path\n",
    "import datetime\n",
    "import json"
   ]
  },
  {
   "cell_type": "code",
   "execution_count": 20,
   "id": "71cc7d8d-76d0-4d77-b358-a3194bb7801b",
   "metadata": {},
   "outputs": [],
   "source": [
    "def record_video(env, Qtable, out_directory, fps=1):\n",
    "    \"\"\"\n",
    "    Generate a replay video of the agent\n",
    "    :param env\n",
    "    :param Qtable: Qtable of our agent\n",
    "    :param out_directory\n",
    "    :param fps: how many frame per seconds (with taxi-v3 and frozenlake-v1 we use 1)\n",
    "    \"\"\"\n",
    "    images = []\n",
    "    terminated = False\n",
    "    truncated = False\n",
    "    state, info = env.reset(seed=random.randint(0, 500))\n",
    "    img = env.render()\n",
    "    images.append(img)\n",
    "    while not terminated or truncated:\n",
    "        # Take the action (index) that have the maximum expected future reward given that state\n",
    "        action = np.argmax(Qtable[state][:])\n",
    "        state, reward, terminated, truncated, info = env.step(\n",
    "            action\n",
    "        )  # We directly put next_state = state for recording logic\n",
    "        img = env.render()\n",
    "        images.append(img)\n",
    "    imageio.mimsave(out_directory, [np.array(img) for i, img in enumerate(images)], fps=fps)"
   ]
  },
  {
   "cell_type": "code",
   "execution_count": 26,
   "id": "7801b402-bb7c-4f07-a881-0c804dc0c511",
   "metadata": {},
   "outputs": [],
   "source": [
    "record_video(env,Qtable_frozenlake,\"./video.gif\")"
   ]
  },
  {
   "cell_type": "code",
   "execution_count": 24,
   "id": "c07dc3cb-1142-4d62-a45f-7f93b83799bb",
   "metadata": {},
   "outputs": [
    {
     "name": "stdout",
     "output_type": "stream",
     "text": [
      "Looking in indexes: https://pypi.tuna.tsinghua.edu.cn/simple\n",
      "Requirement already satisfied: gymnasium[toy-text] in d:\\anaconda\\envs\\test\\lib\\site-packages (0.29.1)\n",
      "Requirement already satisfied: numpy>=1.21.0 in d:\\anaconda\\envs\\test\\lib\\site-packages (from gymnasium[toy-text]) (1.26.3)\n",
      "Requirement already satisfied: cloudpickle>=1.2.0 in d:\\anaconda\\envs\\test\\lib\\site-packages (from gymnasium[toy-text]) (3.0.0)\n",
      "Requirement already satisfied: typing-extensions>=4.3.0 in d:\\anaconda\\envs\\test\\lib\\site-packages (from gymnasium[toy-text]) (4.9.0)\n",
      "Requirement already satisfied: farama-notifications>=0.0.1 in d:\\anaconda\\envs\\test\\lib\\site-packages (from gymnasium[toy-text]) (0.0.4)\n",
      "Collecting pygame>=2.1.3 (from gymnasium[toy-text])\n",
      "  Downloading https://pypi.tuna.tsinghua.edu.cn/packages/54/77/235d51462fae6acb3464e86ccc254f860e03567876afb43705b4b2ce1819/pygame-2.5.2-cp310-cp310-win_amd64.whl (10.8 MB)\n",
      "     ---------------------------------------- 0.0/10.8 MB ? eta -:--:--\n",
      "     - -------------------------------------- 0.4/10.8 MB 8.3 MB/s eta 0:00:02\n",
      "     --- ------------------------------------ 0.9/10.8 MB 9.0 MB/s eta 0:00:02\n",
      "     --- ------------------------------------ 0.9/10.8 MB 9.0 MB/s eta 0:00:02\n",
      "     ---- ----------------------------------- 1.2/10.8 MB 6.7 MB/s eta 0:00:02\n",
      "     ---- ----------------------------------- 1.3/10.8 MB 7.3 MB/s eta 0:00:02\n",
      "     ------ --------------------------------- 1.7/10.8 MB 6.4 MB/s eta 0:00:02\n",
      "     --------- ------------------------------ 2.6/10.8 MB 8.3 MB/s eta 0:00:01\n",
      "     --------- ------------------------------ 2.6/10.8 MB 8.4 MB/s eta 0:00:01\n",
      "     ---------- ----------------------------- 2.8/10.8 MB 7.4 MB/s eta 0:00:02\n",
      "     ---------- ----------------------------- 2.8/10.8 MB 7.4 MB/s eta 0:00:02\n",
      "     ----------- ---------------------------- 3.1/10.8 MB 7.2 MB/s eta 0:00:02\n",
      "     ------------------ --------------------- 4.9/10.8 MB 9.4 MB/s eta 0:00:01\n",
      "     ------------------ --------------------- 4.9/10.8 MB 9.4 MB/s eta 0:00:01\n",
      "     ------------------- -------------------- 5.2/10.8 MB 8.7 MB/s eta 0:00:01\n",
      "     ----------------------- ---------------- 6.3/10.8 MB 10.0 MB/s eta 0:00:01\n",
      "     ------------------------ --------------- 6.5/10.8 MB 9.9 MB/s eta 0:00:01\n",
      "     ------------------------ --------------- 6.7/10.8 MB 9.3 MB/s eta 0:00:01\n",
      "     ----------------------------- ---------- 7.8/10.8 MB 10.2 MB/s eta 0:00:01\n",
      "     ------------------------------ --------- 8.2/10.8 MB 10.3 MB/s eta 0:00:01\n",
      "     ------------------------------ --------- 8.2/10.8 MB 10.3 MB/s eta 0:00:01\n",
      "     --------------------------------- ------ 9.0/10.8 MB 10.1 MB/s eta 0:00:01\n",
      "     --------------------------------- ------ 9.0/10.8 MB 10.1 MB/s eta 0:00:01\n",
      "     ------------------------------------ --- 9.9/10.8 MB 10.0 MB/s eta 0:00:01\n",
      "     ------------------------------------ -- 10.1/10.8 MB 10.2 MB/s eta 0:00:01\n",
      "     ------------------------------------- -- 10.1/10.8 MB 9.6 MB/s eta 0:00:01\n",
      "     ------------------------------------- -- 10.2/10.8 MB 9.3 MB/s eta 0:00:01\n",
      "     ---------------------------------------  10.7/10.8 MB 9.8 MB/s eta 0:00:01\n",
      "     ---------------------------------------- 10.8/10.8 MB 9.5 MB/s eta 0:00:00\n",
      "Installing collected packages: pygame\n",
      "Successfully installed pygame-2.5.2\n"
     ]
    }
   ],
   "source": [
    "! pip install gymnasium[toy-text]"
   ]
  },
  {
   "cell_type": "code",
   "execution_count": null,
   "id": "2667ee6a-39cc-4a01-9d0a-9c4532309c85",
   "metadata": {},
   "outputs": [],
   "source": []
  },
  {
   "cell_type": "code",
   "execution_count": null,
   "id": "5076e6dc-515b-4d0d-89d8-648b9f610c81",
   "metadata": {},
   "outputs": [],
   "source": []
  },
  {
   "cell_type": "code",
   "execution_count": null,
   "id": "f3104f1c-8819-4911-857f-4a5385185c8d",
   "metadata": {},
   "outputs": [],
   "source": []
  },
  {
   "cell_type": "code",
   "execution_count": null,
   "id": "21250dc6-cdb0-4fd5-9a1a-1e08f66035e8",
   "metadata": {},
   "outputs": [],
   "source": []
  },
  {
   "cell_type": "code",
   "execution_count": null,
   "id": "a8d6bbdc-26bd-457f-a037-addaaf86b4ad",
   "metadata": {},
   "outputs": [],
   "source": []
  },
  {
   "cell_type": "code",
   "execution_count": null,
   "id": "f727941a-b6ea-4514-8271-ad48a49bbf12",
   "metadata": {},
   "outputs": [],
   "source": []
  }
 ],
 "metadata": {
  "kernelspec": {
   "display_name": "Python 3 (ipykernel)",
   "language": "python",
   "name": "python3"
  },
  "language_info": {
   "codemirror_mode": {
    "name": "ipython",
    "version": 3
   },
   "file_extension": ".py",
   "mimetype": "text/x-python",
   "name": "python",
   "nbconvert_exporter": "python",
   "pygments_lexer": "ipython3",
   "version": "3.10.14"
  }
 },
 "nbformat": 4,
 "nbformat_minor": 5
}
